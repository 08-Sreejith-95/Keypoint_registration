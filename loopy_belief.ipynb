{
 "cells": [
  {
   "attachments": {},
   "cell_type": "markdown",
   "metadata": {},
   "source": [
    "### Sparse Keypoint Matching on 3d point clouds extracted from inspiration and expiration of lungs "
   ]
  },
  {
   "cell_type": "code",
   "execution_count": 2,
   "metadata": {},
   "outputs": [],
   "source": [
    "# run imports\n",
    "#key points registration\n",
    "\n",
    "import torch\n",
    "import matplotlib.pyplot as plt\n",
    "import torch.nn.functional as F\n",
    "import nibabel as nib\n",
    "import math\n",
    "import matplotlib.pyplot as plt\n",
    "import numpy as np"
   ]
  },
  {
   "cell_type": "code",
   "execution_count": 3,
   "metadata": {},
   "outputs": [
    {
     "name": "stdout",
     "output_type": "stream",
     "text": [
      "torch.Size([7])\n",
      "tensor([[0.7276, 0.1883, 0.5650],\n",
      "        [0.8439, 0.7577, 0.0956]])\n",
      "torch.Size([2, 2, 3])\n"
     ]
    }
   ],
   "source": [
    "# Load data\n",
    "\n",
    "data = torch.load('fvmbv_sparse_keypoints.pth')\n",
    "kpts_fixed = data['kpts_fixed'] #keypoints_fixed along x,y,z directions i.e 3 vectors\n",
    "kpts_moving = data['kpts_moving']#keypoints_moving along x,y,z\n",
    "gt_displacements = data['gt_displacements']\n",
    "temp = torch.rand(2,3)\n",
    "temp2 = temp\n",
    "diff = temp.unsqueeze(0)-temp2.unsqueeze(1)\n",
    "sum = torch.sum(temp,1)\n",
    "emp = torch.empty(7)\n",
    "print(emp.shape)\n",
    "print(temp2)\n",
    "print(diff.shape)\n",
    "#print(kpts_fixed.transpose(1,0).shape)\n",
    "#print(kpts_moving.shape)\n",
    "#print(kpts_fixed[0:4,:-1])\n",
    "\n",
    "\n"
   ]
  },
  {
   "attachments": {},
   "cell_type": "markdown",
   "metadata": {},
   "source": [
    "#### kNN graph for fixed 3D point cloud and candidate selection"
   ]
  },
  {
   "cell_type": "code",
   "execution_count": 4,
   "metadata": {},
   "outputs": [],
   "source": [
    "# compute pairwise Euclidean distances\n",
    "\n",
    "# Select candidates with lowest distance per fixed point (hint: use torch.topk)\n",
    "#D-unary data(eucleadian distance b/w mov and fix) ,R-regularisation term c=256-no.of candidates to match\n",
    "#N=9-neighbors #m-message(forward pass)\n",
    "#edgelist-2 way(size-no.edgesx2, no specific weight)\n",
    "# Generate a graph for message passing and discrete opimization (symmetric kNN graph)\n",
    "#k-no. of nodes in a patch of the graph-9 neigbors per node\n",
    "\n",
    "#------defining knn graph------\n",
    "def knngraph(keynodes,k=10):\n",
    "    n = keynodes.squeeze().size(0)#no.of keypoints\n",
    "    sd = (keynodes.unsqueeze(1)-keynodes.unsqueeze(0))**2#pairwise squared  distance b/w keypoints\n",
    "    ssd = torch.sum(sd,2)#sum of squared distance-neighbor selecting criteria\n",
    "    knn,_ = torch.topk(ssd,k,1,largest=False)#k nearest \n",
    "    print(knn.shape)\n",
    "    #creating adjacency matrix (size nxn)\n",
    "    label_mask = (ssd < (knn[:,k-1:k]).repeat(1,n)).float()\n",
    "    print(\"label mask size:\",label_mask.shape)\n",
    "    temp = label_mask+label_mask.t()#\n",
    "    label_mask = torch.clamp(temp,0,1) - torch.eye(n,n) \n",
    "    edge = torch.nonzero(label_mask)\n",
    "    #generating reverse indexes for the graph\n",
    "    edge_idx = torch.zeros(n,n).long()\n",
    "    edge_idx[edge[:,0],edge[:,1]] = torch.arange(edge.size(0))\n",
    "    rev_idx = (edge_idx[edge[:,1],edge[:,0]]).view(-1,1)\n",
    "    return edge, rev_idx\n",
    "\n",
    "#--message passing between nodes--\n",
    "def reg_model(unary_data,candidate1,candidate2,lamda):\n",
    "    with torch.no_grad():\n",
    "        cost = unary_data.unsqueeze(1) + lamda*(candidate1.unsqueeze(1) - candidate2.unsqueeze(2)).pow(2).sum(3)\n",
    "        m_p_q = torch.min(cost,2) #message from node p -> q\n",
    "        return m_p_q[0]\n",
    "\n",
    "#---rms error---\n",
    "def reg_error(evaluated,ground_truth):\n",
    "  diff = (evaluated*torch.Tensor([223/2,159/2,223/2]).view(-1,3) - ground_truth*torch.Tensor([223/2,159/2,223/2]).view(-1,3))\n",
    "  rms = torch.sqrt(diff.pow(2).sum(1)).mean()\n",
    "  return rms\n"
   ]
  },
  {
   "attachments": {},
   "cell_type": "markdown",
   "metadata": {},
   "source": [
    "#### Loopy belief propagation with sparse label candidates"
   ]
  },
  {
   "cell_type": "code",
   "execution_count": 5,
   "metadata": {},
   "outputs": [
    {
     "name": "stdout",
     "output_type": "stream",
     "text": [
      "key_fix size: torch.Size([2048, 3])\n",
      "key_mov torch.Size([7983, 3])\n",
      "torch.Size([2048, 10])\n",
      "label mask size: torch.Size([2048, 2048])\n",
      "temp message size torch.Size([2048, 256])\n",
      "iter: 0 error: tensor(13.5223)\n",
      "temp message size torch.Size([2048, 256])\n",
      "iter: 1 error: tensor(8.5655)\n",
      "temp message size torch.Size([2048, 256])\n",
      "iter: 2 error: tensor(1.2295)\n",
      "temp message size torch.Size([2048, 256])\n",
      "iter: 3 error: tensor(0.8281)\n",
      "temp message size torch.Size([2048, 256])\n",
      "iter: 4 error: tensor(0.6442)\n",
      "temp message size torch.Size([2048, 256])\n",
      "iter: 5 error: tensor(0.5026)\n",
      "temp message size torch.Size([2048, 256])\n",
      "iter: 6 error: tensor(0.4113)\n",
      "[13.52229118347168, 8.565495491027832, 1.2294846773147583, 0.8281062841415405, 0.6441528797149658, 0.5026230216026306, 0.41133514046669006]\n"
     ]
    },
    {
     "data": {
      "image/png": "[encoded data removed]",
      "text/plain": [
       "<Figure size 432x288 with 1 Axes>"
      ]
     },
     "metadata": {
      "needs_background": "light"
     },
     "output_type": "display_data"
    }
   ],
   "source": [
    "# estimate regularization term\n",
    "# computed reverse index to be added here (2nd part)\n",
    "# implement loopy belief propagation\n",
    "\n",
    "#loppybelief algorithm\n",
    "def loopybelief(key_fix, key_mov, lamda = 1.50, no_cand= 256):#\n",
    "    with torch.no_grad():\n",
    "        print(\"key_fix size:\", key_fix.shape)\n",
    "        print(\"key_mov\",key_mov.shape)\n",
    "        sd=(key_fix.unsqueeze(1) - key_mov.unsqueeze(0)).pow(2).sum(2)# pairwise squared dist between keypoints fixed and moving\n",
    "        _,idx = torch.topk(sd.squeeze(), no_cand, dim = 1, largest= False)#generating index of candidates\n",
    "        #gathering 256 candidates for registration\n",
    "        candidates = -key_fix.unsqueeze(1) + torch.gather(key_mov.unsqueeze(1).repeat(1,no_cand,1),0,idx.unsqueeze(2).repeat(1,1,3))\n",
    "        edge,rev_idx = knngraph(key_fix)\n",
    "        n = kpts_fixed.squeeze().size(0)\n",
    "        n_edge = edge.size(0)\n",
    "        message = torch.zeros(n_edge, no_cand)# #edgex256\n",
    "        candidate1 = candidates[edge[:,0],:,:]\n",
    "        candidate2 = candidates[edge[:,1],:,:]\n",
    "        #initialising temp_message\n",
    "        temp_message = torch.zeros(n_edge, no_cand)\n",
    "        #iterating messages through the graph from leaf -> root\n",
    "        error_data = []\n",
    "\n",
    "        for i in range(7):\n",
    "            datacost = torch.gather(temp_message,0,edge[:,0].reshape(-1,1).repeat(1,no_cand))#D_p = 0 in this case\n",
    "            rev_message = torch.gather(message,0,rev_idx.view(-1,1))\n",
    "            rev_message = rev_message.repeat(1,no_cand)\n",
    "            datacost -= rev_message\n",
    "            for j in range(int(math.ceil(n_edge/512))):\n",
    "                m = min((j+1)*512, n_edge)\n",
    "                message[j*512:m] = reg_model(datacost[j*512:m],candidate1[j*512:m],candidate2[j*512:m],lamda)\n",
    "            temp_message = torch.zeros(n,no_cand)\n",
    "            temp_message.scatter_add_(0,edge[:,1].reshape(-1,1).repeat(1,no_cand),message)\n",
    "            print('temp message size',temp_message.shape)\n",
    "            p = torch.softmax(-50*(temp_message).reshape(n,no_cand).float(),1)\n",
    "            disp_eval =torch.sum(p.unsqueeze(2)*candidates,1).unsqueeze(0)\n",
    "            error = reg_error(disp_eval.squeeze(),gt_displacements)\n",
    "            print('iter:',i,'error:',error)\n",
    "            error_temp = error.tolist()\n",
    "            error_data.append(error_temp)\n",
    "        print(error_data)\n",
    "        m_s_p = temp_message.reshape(n,no_cand)\n",
    "        marg = 10*m_s_p.float()\n",
    "        disp_eval = torch.sum(torch.softmax(-5*marg,1).unsqueeze(2)*candidates,1).unsqueeze(0)\n",
    "        error_  = np.array(error_data)\n",
    "        x= np.linspace(1,7,7)\n",
    "        plt.plot(x,error_data)\n",
    "        plt.xlabel(\"Iteration\")\n",
    "        plt.ylabel(\" Error(rms) \")\n",
    "        plt.title('Learning Curve LBP')\n",
    "        plt.savefig('Learning curve LBP.png')\n",
    "        plt.show()\n",
    "    return disp_eval\n",
    "\n",
    "\n",
    "if __name__ == \"__main__\":\n",
    "    loopybelief(kpts_fixed,kpts_moving)\n",
    "\n",
    "\n",
    "\n",
    "\n",
    "\n",
    "\n",
    "        \n",
    " "
   ]
  },
  {
   "cell_type": "code",
   "execution_count": 6,
   "metadata": {},
   "outputs": [
    {
     "name": "stdout",
     "output_type": "stream",
     "text": [
      "Image: torch.Size([192, 192, 208]) ; Mask: torch.Size([192, 192, 208])\n"
     ]
    }
   ],
   "source": [
    "# Load img and mask\n",
    "\n",
    "img = torch.from_numpy(nib.load('case_001_insp.nii').get_fdata()).float().flip(2)\n",
    "mask = torch.from_numpy(nib.load('case_001_insp_mask.nii').get_fdata()).flip(2)\n",
    "\n",
    "print('Image:',img.shape,'; Mask:',mask.shape)"
   ]
  },
  {
   "cell_type": "markdown",
   "metadata": {},
   "source": []
  }
 ],
 "metadata": {
  "interpreter": {
   "hash": "b0fa6594d8f4cbf19f97940f81e996739fb7646882a419484c72d19e05852a7e"
  },
  "kernelspec": {
   "display_name": "Python 3.9.7 64-bit",
   "language": "python",
   "name": "python3"
  },
  "language_info": {
   "codemirror_mode": {
    "name": "ipython",
    "version": 3
   },
   "file_extension": ".py",
   "mimetype": "text/x-python",
   "name": "python",
   "nbconvert_exporter": "python",
   "pygments_lexer": "ipython3",
   "version": "3.9.7"
  },
  "orig_nbformat": 4
 },
 "nbformat": 4,
 "nbformat_minor": 2
}
